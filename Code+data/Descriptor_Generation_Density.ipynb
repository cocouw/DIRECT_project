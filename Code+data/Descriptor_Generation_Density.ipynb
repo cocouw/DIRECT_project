{
 "cells": [
  {
   "cell_type": "code",
   "execution_count": 1,
   "metadata": {
    "collapsed": false
   },
   "outputs": [
    {
     "name": "stderr",
     "output_type": "stream",
     "text": [
      "/Users/SarahsAdventure/miniconda3/lib/python3.5/site-packages/matplotlib/font_manager.py:273: UserWarning: Matplotlib is building the font cache using fc-list. This may take a moment.\n",
      "  warnings.warn('Matplotlib is building the font cache using fc-list. This may take a moment.')\n",
      "/Users/SarahsAdventure/miniconda3/lib/python3.5/site-packages/matplotlib/font_manager.py:273: UserWarning: Matplotlib is building the font cache using fc-list. This may take a moment.\n",
      "  warnings.warn('Matplotlib is building the font cache using fc-list. This may take a moment.')\n"
     ]
    }
   ],
   "source": [
    "import pandas as pd\n",
    "import matplotlib.pyplot as plt\n",
    "import numpy as np\n",
    "from __future__ import print_function\n",
    "from rdkit import Chem\n",
    "from rdkit.Chem import AllChem\n",
    "from rdkit.Chem import Descriptors\n",
    "from rdkit.ML.Descriptors.MoleculeDescriptors import MolecularDescriptorCalculator as Calculator"
   ]
  },
  {
   "cell_type": "code",
   "execution_count": 2,
   "metadata": {
    "collapsed": false
   },
   "outputs": [],
   "source": [
    "data = pd.DataFrame.from_csv('Density.csv')"
   ]
  },
  {
   "cell_type": "code",
   "execution_count": 3,
   "metadata": {
    "collapsed": false
   },
   "outputs": [
    {
     "data": {
      "text/html": [
       "<div>\n",
       "<table border=\"1\" class=\"dataframe\">\n",
       "  <thead>\n",
       "    <tr style=\"text-align: right;\">\n",
       "      <th></th>\n",
       "      <th>NAME_CAT</th>\n",
       "      <th>SMILE_CAT</th>\n",
       "      <th>NAME_ANI</th>\n",
       "      <th>SMILE_ANI</th>\n",
       "      <th>T</th>\n",
       "      <th>P</th>\n",
       "      <th>densiy (kg/m3)</th>\n",
       "      <th>reference</th>\n",
       "      <th>Unnamed: 9</th>\n",
       "      <th>Unnamed: 10</th>\n",
       "      <th>...</th>\n",
       "      <th>Unnamed: 15</th>\n",
       "      <th>Unnamed: 16</th>\n",
       "      <th>Unnamed: 17</th>\n",
       "      <th>Unnamed: 18</th>\n",
       "      <th>Unnamed: 19</th>\n",
       "      <th>Unnamed: 20</th>\n",
       "      <th>Unnamed: 21</th>\n",
       "      <th>Unnamed: 22</th>\n",
       "      <th>Unnamed: 23</th>\n",
       "      <th>Unnamed: 24</th>\n",
       "    </tr>\n",
       "  </thead>\n",
       "  <tbody>\n",
       "    <tr>\n",
       "      <th>1</th>\n",
       "      <td>1-butyl-2,3-dimethyl-1H-imidazolium</td>\n",
       "      <td>CCCC[NH+]1C=CN(C1C)C</td>\n",
       "      <td>bis(trifluoromethylsulfonyl)amide</td>\n",
       "      <td>C(F)(F)(F)S(=O)(=O)[N-]S(=O)(=O)C(F)(F)F\\r</td>\n",
       "      <td>278.15</td>\n",
       "      <td>101.325</td>\n",
       "      <td>1437.39</td>\n",
       "      <td>Tagiuri, A.; Sumon, K. Z.; Henni, A. (2014) Fl...</td>\n",
       "      <td>NaN</td>\n",
       "      <td>NaN</td>\n",
       "      <td>...</td>\n",
       "      <td>NaN</td>\n",
       "      <td>NaN</td>\n",
       "      <td>NaN</td>\n",
       "      <td>NaN</td>\n",
       "      <td>NaN</td>\n",
       "      <td>NaN</td>\n",
       "      <td>NaN</td>\n",
       "      <td>NaN</td>\n",
       "      <td>NaN</td>\n",
       "      <td>NaN</td>\n",
       "    </tr>\n",
       "    <tr>\n",
       "      <th>2</th>\n",
       "      <td>1-butyl-2,3-dimethyl-1H-imidazolium</td>\n",
       "      <td>CCCC[NH+]1C=CN(C1C)C</td>\n",
       "      <td>bis(trifluoromethylsulfonyl)amide</td>\n",
       "      <td>C(F)(F)(F)S(=O)(=O)[N-]S(=O)(=O)C(F)(F)F\\r</td>\n",
       "      <td>283.15</td>\n",
       "      <td>101.325</td>\n",
       "      <td>1432.61</td>\n",
       "      <td>Tagiuri, A.; Sumon, K. Z.; Henni, A. (2014) Fl...</td>\n",
       "      <td>NaN</td>\n",
       "      <td>NaN</td>\n",
       "      <td>...</td>\n",
       "      <td>NaN</td>\n",
       "      <td>NaN</td>\n",
       "      <td>NaN</td>\n",
       "      <td>NaN</td>\n",
       "      <td>NaN</td>\n",
       "      <td>NaN</td>\n",
       "      <td>NaN</td>\n",
       "      <td>NaN</td>\n",
       "      <td>NaN</td>\n",
       "      <td>NaN</td>\n",
       "    </tr>\n",
       "    <tr>\n",
       "      <th>3</th>\n",
       "      <td>1-butyl-2,3-dimethyl-1H-imidazolium</td>\n",
       "      <td>CCCC[NH+]1C=CN(C1C)C</td>\n",
       "      <td>bis(trifluoromethylsulfonyl)amide</td>\n",
       "      <td>C(F)(F)(F)S(=O)(=O)[N-]S(=O)(=O)C(F)(F)F\\r</td>\n",
       "      <td>288.15</td>\n",
       "      <td>101.325</td>\n",
       "      <td>1427.91</td>\n",
       "      <td>Tagiuri, A.; Sumon, K. Z.; Henni, A. (2014) Fl...</td>\n",
       "      <td>NaN</td>\n",
       "      <td>NaN</td>\n",
       "      <td>...</td>\n",
       "      <td>NaN</td>\n",
       "      <td>NaN</td>\n",
       "      <td>NaN</td>\n",
       "      <td>NaN</td>\n",
       "      <td>NaN</td>\n",
       "      <td>NaN</td>\n",
       "      <td>NaN</td>\n",
       "      <td>NaN</td>\n",
       "      <td>NaN</td>\n",
       "      <td>NaN</td>\n",
       "    </tr>\n",
       "    <tr>\n",
       "      <th>4</th>\n",
       "      <td>1-butyl-2,3-dimethyl-1H-imidazolium</td>\n",
       "      <td>CCCC[NH+]1C=CN(C1C)C</td>\n",
       "      <td>bis(trifluoromethylsulfonyl)amide</td>\n",
       "      <td>C(F)(F)(F)S(=O)(=O)[N-]S(=O)(=O)C(F)(F)F\\r</td>\n",
       "      <td>293.15</td>\n",
       "      <td>101.325</td>\n",
       "      <td>1423.31</td>\n",
       "      <td>Tagiuri, A.; Sumon, K. Z.; Henni, A. (2014) Fl...</td>\n",
       "      <td>NaN</td>\n",
       "      <td>NaN</td>\n",
       "      <td>...</td>\n",
       "      <td>NaN</td>\n",
       "      <td>NaN</td>\n",
       "      <td>NaN</td>\n",
       "      <td>NaN</td>\n",
       "      <td>NaN</td>\n",
       "      <td>NaN</td>\n",
       "      <td>NaN</td>\n",
       "      <td>NaN</td>\n",
       "      <td>NaN</td>\n",
       "      <td>NaN</td>\n",
       "    </tr>\n",
       "    <tr>\n",
       "      <th>5</th>\n",
       "      <td>1-butyl-2,3-dimethyl-1H-imidazolium</td>\n",
       "      <td>CCCC[NH+]1C=CN(C1C)C</td>\n",
       "      <td>bis(trifluoromethylsulfonyl)amide</td>\n",
       "      <td>C(F)(F)(F)S(=O)(=O)[N-]S(=O)(=O)C(F)(F)F\\r</td>\n",
       "      <td>298.15</td>\n",
       "      <td>101.325</td>\n",
       "      <td>1418.69</td>\n",
       "      <td>Tagiuri, A.; Sumon, K. Z.; Henni, A. (2014) Fl...</td>\n",
       "      <td>NaN</td>\n",
       "      <td>NaN</td>\n",
       "      <td>...</td>\n",
       "      <td>NaN</td>\n",
       "      <td>NaN</td>\n",
       "      <td>NaN</td>\n",
       "      <td>NaN</td>\n",
       "      <td>NaN</td>\n",
       "      <td>NaN</td>\n",
       "      <td>NaN</td>\n",
       "      <td>NaN</td>\n",
       "      <td>NaN</td>\n",
       "      <td>NaN</td>\n",
       "    </tr>\n",
       "  </tbody>\n",
       "</table>\n",
       "<p>5 rows × 24 columns</p>\n",
       "</div>"
      ],
      "text/plain": [
       "                               NAME_CAT             SMILE_CAT  \\\n",
       "1  1-butyl-2,3-dimethyl-1H-imidazolium   CCCC[NH+]1C=CN(C1C)C   \n",
       "2  1-butyl-2,3-dimethyl-1H-imidazolium   CCCC[NH+]1C=CN(C1C)C   \n",
       "3  1-butyl-2,3-dimethyl-1H-imidazolium   CCCC[NH+]1C=CN(C1C)C   \n",
       "4  1-butyl-2,3-dimethyl-1H-imidazolium   CCCC[NH+]1C=CN(C1C)C   \n",
       "5  1-butyl-2,3-dimethyl-1H-imidazolium   CCCC[NH+]1C=CN(C1C)C   \n",
       "\n",
       "                            NAME_ANI  \\\n",
       "1  bis(trifluoromethylsulfonyl)amide   \n",
       "2  bis(trifluoromethylsulfonyl)amide   \n",
       "3  bis(trifluoromethylsulfonyl)amide   \n",
       "4  bis(trifluoromethylsulfonyl)amide   \n",
       "5  bis(trifluoromethylsulfonyl)amide   \n",
       "\n",
       "                                    SMILE_ANI       T        P densiy (kg/m3)  \\\n",
       "1  C(F)(F)(F)S(=O)(=O)[N-]S(=O)(=O)C(F)(F)F\\r  278.15  101.325        1437.39   \n",
       "2  C(F)(F)(F)S(=O)(=O)[N-]S(=O)(=O)C(F)(F)F\\r  283.15  101.325        1432.61   \n",
       "3  C(F)(F)(F)S(=O)(=O)[N-]S(=O)(=O)C(F)(F)F\\r  288.15  101.325        1427.91   \n",
       "4  C(F)(F)(F)S(=O)(=O)[N-]S(=O)(=O)C(F)(F)F\\r  293.15  101.325        1423.31   \n",
       "5  C(F)(F)(F)S(=O)(=O)[N-]S(=O)(=O)C(F)(F)F\\r  298.15  101.325        1418.69   \n",
       "\n",
       "                                           reference Unnamed: 9  Unnamed: 10  \\\n",
       "1  Tagiuri, A.; Sumon, K. Z.; Henni, A. (2014) Fl...        NaN          NaN   \n",
       "2  Tagiuri, A.; Sumon, K. Z.; Henni, A. (2014) Fl...        NaN          NaN   \n",
       "3  Tagiuri, A.; Sumon, K. Z.; Henni, A. (2014) Fl...        NaN          NaN   \n",
       "4  Tagiuri, A.; Sumon, K. Z.; Henni, A. (2014) Fl...        NaN          NaN   \n",
       "5  Tagiuri, A.; Sumon, K. Z.; Henni, A. (2014) Fl...        NaN          NaN   \n",
       "\n",
       "      ...       Unnamed: 15  Unnamed: 16  Unnamed: 17  Unnamed: 18  \\\n",
       "1     ...               NaN          NaN          NaN          NaN   \n",
       "2     ...               NaN          NaN          NaN          NaN   \n",
       "3     ...               NaN          NaN          NaN          NaN   \n",
       "4     ...               NaN          NaN          NaN          NaN   \n",
       "5     ...               NaN          NaN          NaN          NaN   \n",
       "\n",
       "   Unnamed: 19  Unnamed: 20  Unnamed: 21  Unnamed: 22  Unnamed: 23  \\\n",
       "1          NaN          NaN          NaN          NaN          NaN   \n",
       "2          NaN          NaN          NaN          NaN          NaN   \n",
       "3          NaN          NaN          NaN          NaN          NaN   \n",
       "4          NaN          NaN          NaN          NaN          NaN   \n",
       "5          NaN          NaN          NaN          NaN          NaN   \n",
       "\n",
       "   Unnamed: 24  \n",
       "1          NaN  \n",
       "2          NaN  \n",
       "3          NaN  \n",
       "4          NaN  \n",
       "5          NaN  \n",
       "\n",
       "[5 rows x 24 columns]"
      ]
     },
     "execution_count": 3,
     "metadata": {},
     "output_type": "execute_result"
    }
   ],
   "source": [
    "data.head()"
   ]
  },
  {
   "cell_type": "code",
   "execution_count": 4,
   "metadata": {
    "collapsed": false
   },
   "outputs": [],
   "source": [
    "n = data.shape[0]"
   ]
  },
  {
   "cell_type": "code",
   "execution_count": 6,
   "metadata": {
    "collapsed": false
   },
   "outputs": [
    {
     "name": "stdout",
     "output_type": "stream",
     "text": [
      "['steiger', 'Marsili Partial Charges', 'BalabanJ', 'BertzCT', 'Ipc', 'HallKierAlpha', 'Kappa1', 'Kappa2', 'Kappa3', 'Chi0', 'Chi1', 'Chi0n', 'Chi1n', 'Chi2n', 'Chi3n', 'Chi4n', 'Chi0v', 'Chi1v', 'Chi2v', 'Chi3v', 'Chi4v', 'MolLogP', 'MolMR', 'MolWt', 'HeavyAtomCount', 'HeavyAtomMolWt', 'NHOHCount', 'NOCount', 'NumHAcceptors', 'NumHDonors', 'NumHeteroatoms', 'NumRotatableBonds', 'NumValenceElectrons', 'RingCount', 'TPSA', 'LabuteASA', 'PEOE_VSA1', 'PEOE_VSA2', 'PEOE_VSA3', 'PEOE_VSA4', 'PEOE_VSA5', 'PEOE_VSA6', 'PEOE_VSA7', 'PEOE_VSA8', 'PEOE_VSA9', 'PEOE_VSA10', 'PEOE_VSA11', 'PEOE_VSA12', 'PEOE_VSA13', 'PEOE_VSA14', 'SMR_VSA1', 'SMR_VSA2', 'SMR_VSA3', 'SMR_VSA4', 'SMR_VSA5', 'SMR_VSA6', 'SMR_VSA7', 'SMR_VSA8', 'SMR_VSA9', 'SMR_VSA10', 'SlogP_VSA1', 'SlogP_VSA2', 'SlogP_VSA3', 'SlogP_VSA4', 'SlogP_VSA5', 'SlogP_VSA6', 'SlogP_VSA7', 'SlogP_VSA8', 'SlogP_VSA9', 'SlogP_VSA10', 'SlogP_VSA11', 'SlogP_VSA12', 'EState_VSA1', 'EState_VSA2', 'EState_VSA3', 'EState_VSA4', 'EState_VSA5', 'EState_VSA6', 'EState_VSA7', 'EState_VSA8', 'EState_VSA9', 'EState_VSA10', 'EState_VSA11', 'VSA_EState1', 'VSA_EState2', 'VSA_EState3', 'VSA_EState4', 'VSA_EState5', 'VSA_EState6', 'VSA_EState7', 'VSA_EState8', 'VSA_EState9', 'VSA_EState10', 'Topliss fragments']\n",
      "510 191\n"
     ]
    }
   ],
   "source": [
    "f = open('Deslist','r')\n",
    "Deslist = []\n",
    "for line in f:\n",
    "    Deslist.append(line.strip('\\n\\t'))\n",
    "print(Deslist)\n",
    "calc = Calculator(Deslist)\n",
    "D = len(Deslist)\n",
    "d = len(Deslist)*2+3\n",
    "print(n,d)"
   ]
  },
  {
   "cell_type": "code",
   "execution_count": 12,
   "metadata": {
    "collapsed": false
   },
   "outputs": [
    {
     "name": "stdout",
     "output_type": "stream",
     "text": [
      "(510, 191)\n"
     ]
    }
   ],
   "source": [
    "X = np.zeros((n,d))\n",
    "X[:,-3] = data['T']\n",
    "X[:,-2] = data['P']\n",
    "for i in range(n):\n",
    "    cation = Chem.MolFromSmiles(data['SMILE_CAT'][i])\n",
    "    anion  = Chem.MolFromSmiles(data['SMILE_ANI'][i])\n",
    "    X[i][:D]    = calc.CalcDescriptors(cation)\n",
    "    X[i][D:2*D] = calc.CalcDescriptors(anion)\n",
    "\n",
    "X[:,-1] = data['densiy (kg/m3)']\n",
    "print(X.shape)\n",
    "\n",
    "np.savetxt(\"Density.txt\",X)"
   ]
  },
  {
   "cell_type": "code",
   "execution_count": null,
   "metadata": {
    "collapsed": true
   },
   "outputs": [],
   "source": []
  }
 ],
 "metadata": {
  "anaconda-cloud": {},
  "kernelspec": {
   "display_name": "Python [default]",
   "language": "python",
   "name": "python3"
  },
  "language_info": {
   "codemirror_mode": {
    "name": "ipython",
    "version": 3
   },
   "file_extension": ".py",
   "mimetype": "text/x-python",
   "name": "python",
   "nbconvert_exporter": "python",
   "pygments_lexer": "ipython3",
   "version": "3.5.2"
  }
 },
 "nbformat": 4,
 "nbformat_minor": 1
}
