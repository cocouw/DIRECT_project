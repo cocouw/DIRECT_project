{
 "cells": [
  {
   "cell_type": "code",
   "execution_count": 1,
   "metadata": {
    "collapsed": false
   },
   "outputs": [
    {
     "ename": "ImportError",
     "evalue": "No module named 'rdkit'",
     "output_type": "error",
     "traceback": [
      "\u001b[0;31m---------------------------------------------------------------------------\u001b[0m",
      "\u001b[0;31mImportError\u001b[0m                               Traceback (most recent call last)",
      "\u001b[0;32m<ipython-input-1-d64fb11148c6>\u001b[0m in \u001b[0;36m<module>\u001b[0;34m()\u001b[0m\n\u001b[1;32m      3\u001b[0m \u001b[0;32mimport\u001b[0m \u001b[0mnumpy\u001b[0m \u001b[0;32mas\u001b[0m \u001b[0mnp\u001b[0m\u001b[0;34m\u001b[0m\u001b[0m\n\u001b[1;32m      4\u001b[0m \u001b[0;32mfrom\u001b[0m \u001b[0m__future__\u001b[0m \u001b[0;32mimport\u001b[0m \u001b[0mprint_function\u001b[0m\u001b[0;34m\u001b[0m\u001b[0m\n\u001b[0;32m----> 5\u001b[0;31m \u001b[0;32mfrom\u001b[0m \u001b[0mrdkit\u001b[0m \u001b[0;32mimport\u001b[0m \u001b[0mChem\u001b[0m\u001b[0;34m\u001b[0m\u001b[0m\n\u001b[0m\u001b[1;32m      6\u001b[0m \u001b[0;32mfrom\u001b[0m \u001b[0mrdkit\u001b[0m\u001b[0;34m.\u001b[0m\u001b[0mChem\u001b[0m \u001b[0;32mimport\u001b[0m \u001b[0mAllChem\u001b[0m\u001b[0;34m\u001b[0m\u001b[0m\n\u001b[1;32m      7\u001b[0m \u001b[0;32mfrom\u001b[0m \u001b[0mrdkit\u001b[0m\u001b[0;34m.\u001b[0m\u001b[0mChem\u001b[0m \u001b[0;32mimport\u001b[0m \u001b[0mDescriptors\u001b[0m\u001b[0;34m\u001b[0m\u001b[0m\n",
      "\u001b[0;31mImportError\u001b[0m: No module named 'rdkit'"
     ]
    }
   ],
   "source": [
    "import pandas as pd\n",
    "import matplotlib.pyplot as plt\n",
    "import numpy as np\n",
    "from __future__ import print_function\n",
    "from rdkit import Chem\n",
    "from rdkit.Chem import AllChem\n",
    "from rdkit.Chem import Descriptors\n",
    "from rdkit.ML.Descriptors.MoleculeDescriptors import MolecularDescriptorCalculator as Calculator"
   ]
  },
  {
   "cell_type": "code",
   "execution_count": 8,
   "metadata": {
    "collapsed": false
   },
   "outputs": [],
   "source": [
    "data = pd.DataFrame.from_csv('Density.csv')"
   ]
  },
  {
   "cell_type": "code",
   "execution_count": 9,
   "metadata": {
    "collapsed": false
   },
   "outputs": [
    {
     "data": {
      "text/html": [
       "<div>\n",
       "<table border=\"1\" class=\"dataframe\">\n",
       "  <thead>\n",
       "    <tr style=\"text-align: right;\">\n",
       "      <th></th>\n",
       "      <th>SMILE_CAT</th>\n",
       "      <th>NAME_ANI</th>\n",
       "      <th>SMILE_ANI</th>\n",
       "      <th>T</th>\n",
       "      <th>P</th>\n",
       "      <th>densiy (kg/m3)</th>\n",
       "      <th>reference</th>\n",
       "    </tr>\n",
       "    <tr>\n",
       "      <th>NAME_CAT</th>\n",
       "      <th></th>\n",
       "      <th></th>\n",
       "      <th></th>\n",
       "      <th></th>\n",
       "      <th></th>\n",
       "      <th></th>\n",
       "      <th></th>\n",
       "    </tr>\n",
       "  </thead>\n",
       "  <tbody>\n",
       "    <tr>\n",
       "      <th>1-butyl-2,3-dimethyl-1H-imidazolium</th>\n",
       "      <td>CCCC[NH+]1C=CN(C1C)C</td>\n",
       "      <td>bis(trifluoromethylsulfonyl)amide</td>\n",
       "      <td>C(F)(F)(F)S(=O)(=O)[N-]S(=O)(=O)C(F)(F)F\\r</td>\n",
       "      <td>278.15</td>\n",
       "      <td>101.325</td>\n",
       "      <td>1437.39</td>\n",
       "      <td>Tagiuri, A.; Sumon, K. Z.; Henni, A. (2014) Fl...</td>\n",
       "    </tr>\n",
       "    <tr>\n",
       "      <th>1-butyl-2,3-dimethyl-1H-imidazolium</th>\n",
       "      <td>CCCC[NH+]1C=CN(C1C)C</td>\n",
       "      <td>bis(trifluoromethylsulfonyl)amide</td>\n",
       "      <td>C(F)(F)(F)S(=O)(=O)[N-]S(=O)(=O)C(F)(F)F\\r</td>\n",
       "      <td>283.15</td>\n",
       "      <td>101.325</td>\n",
       "      <td>1432.61</td>\n",
       "      <td>Tagiuri, A.; Sumon, K. Z.; Henni, A. (2014) Fl...</td>\n",
       "    </tr>\n",
       "    <tr>\n",
       "      <th>1-butyl-2,3-dimethyl-1H-imidazolium</th>\n",
       "      <td>CCCC[NH+]1C=CN(C1C)C</td>\n",
       "      <td>bis(trifluoromethylsulfonyl)amide</td>\n",
       "      <td>C(F)(F)(F)S(=O)(=O)[N-]S(=O)(=O)C(F)(F)F\\r</td>\n",
       "      <td>288.15</td>\n",
       "      <td>101.325</td>\n",
       "      <td>1427.91</td>\n",
       "      <td>Tagiuri, A.; Sumon, K. Z.; Henni, A. (2014) Fl...</td>\n",
       "    </tr>\n",
       "    <tr>\n",
       "      <th>1-butyl-2,3-dimethyl-1H-imidazolium</th>\n",
       "      <td>CCCC[NH+]1C=CN(C1C)C</td>\n",
       "      <td>bis(trifluoromethylsulfonyl)amide</td>\n",
       "      <td>C(F)(F)(F)S(=O)(=O)[N-]S(=O)(=O)C(F)(F)F\\r</td>\n",
       "      <td>293.15</td>\n",
       "      <td>101.325</td>\n",
       "      <td>1423.31</td>\n",
       "      <td>Tagiuri, A.; Sumon, K. Z.; Henni, A. (2014) Fl...</td>\n",
       "    </tr>\n",
       "    <tr>\n",
       "      <th>1-butyl-2,3-dimethyl-1H-imidazolium</th>\n",
       "      <td>CCCC[NH+]1C=CN(C1C)C</td>\n",
       "      <td>bis(trifluoromethylsulfonyl)amide</td>\n",
       "      <td>C(F)(F)(F)S(=O)(=O)[N-]S(=O)(=O)C(F)(F)F\\r</td>\n",
       "      <td>298.15</td>\n",
       "      <td>101.325</td>\n",
       "      <td>1418.69</td>\n",
       "      <td>Tagiuri, A.; Sumon, K. Z.; Henni, A. (2014) Fl...</td>\n",
       "    </tr>\n",
       "  </tbody>\n",
       "</table>\n",
       "</div>"
      ],
      "text/plain": [
       "                                                 SMILE_CAT  \\\n",
       "NAME_CAT                                                     \n",
       "1-butyl-2,3-dimethyl-1H-imidazolium   CCCC[NH+]1C=CN(C1C)C   \n",
       "1-butyl-2,3-dimethyl-1H-imidazolium   CCCC[NH+]1C=CN(C1C)C   \n",
       "1-butyl-2,3-dimethyl-1H-imidazolium   CCCC[NH+]1C=CN(C1C)C   \n",
       "1-butyl-2,3-dimethyl-1H-imidazolium   CCCC[NH+]1C=CN(C1C)C   \n",
       "1-butyl-2,3-dimethyl-1H-imidazolium   CCCC[NH+]1C=CN(C1C)C   \n",
       "\n",
       "                                                               NAME_ANI  \\\n",
       "NAME_CAT                                                                  \n",
       "1-butyl-2,3-dimethyl-1H-imidazolium   bis(trifluoromethylsulfonyl)amide   \n",
       "1-butyl-2,3-dimethyl-1H-imidazolium   bis(trifluoromethylsulfonyl)amide   \n",
       "1-butyl-2,3-dimethyl-1H-imidazolium   bis(trifluoromethylsulfonyl)amide   \n",
       "1-butyl-2,3-dimethyl-1H-imidazolium   bis(trifluoromethylsulfonyl)amide   \n",
       "1-butyl-2,3-dimethyl-1H-imidazolium   bis(trifluoromethylsulfonyl)amide   \n",
       "\n",
       "                                                                       SMILE_ANI  \\\n",
       "NAME_CAT                                                                           \n",
       "1-butyl-2,3-dimethyl-1H-imidazolium   C(F)(F)(F)S(=O)(=O)[N-]S(=O)(=O)C(F)(F)F\\r   \n",
       "1-butyl-2,3-dimethyl-1H-imidazolium   C(F)(F)(F)S(=O)(=O)[N-]S(=O)(=O)C(F)(F)F\\r   \n",
       "1-butyl-2,3-dimethyl-1H-imidazolium   C(F)(F)(F)S(=O)(=O)[N-]S(=O)(=O)C(F)(F)F\\r   \n",
       "1-butyl-2,3-dimethyl-1H-imidazolium   C(F)(F)(F)S(=O)(=O)[N-]S(=O)(=O)C(F)(F)F\\r   \n",
       "1-butyl-2,3-dimethyl-1H-imidazolium   C(F)(F)(F)S(=O)(=O)[N-]S(=O)(=O)C(F)(F)F\\r   \n",
       "\n",
       "                                           T        P densiy (kg/m3)  \\\n",
       "NAME_CAT                                                               \n",
       "1-butyl-2,3-dimethyl-1H-imidazolium   278.15  101.325        1437.39   \n",
       "1-butyl-2,3-dimethyl-1H-imidazolium   283.15  101.325        1432.61   \n",
       "1-butyl-2,3-dimethyl-1H-imidazolium   288.15  101.325        1427.91   \n",
       "1-butyl-2,3-dimethyl-1H-imidazolium   293.15  101.325        1423.31   \n",
       "1-butyl-2,3-dimethyl-1H-imidazolium   298.15  101.325        1418.69   \n",
       "\n",
       "                                                                              reference  \n",
       "NAME_CAT                                                                                 \n",
       "1-butyl-2,3-dimethyl-1H-imidazolium   Tagiuri, A.; Sumon, K. Z.; Henni, A. (2014) Fl...  \n",
       "1-butyl-2,3-dimethyl-1H-imidazolium   Tagiuri, A.; Sumon, K. Z.; Henni, A. (2014) Fl...  \n",
       "1-butyl-2,3-dimethyl-1H-imidazolium   Tagiuri, A.; Sumon, K. Z.; Henni, A. (2014) Fl...  \n",
       "1-butyl-2,3-dimethyl-1H-imidazolium   Tagiuri, A.; Sumon, K. Z.; Henni, A. (2014) Fl...  \n",
       "1-butyl-2,3-dimethyl-1H-imidazolium   Tagiuri, A.; Sumon, K. Z.; Henni, A. (2014) Fl...  "
      ]
     },
     "execution_count": 9,
     "metadata": {},
     "output_type": "execute_result"
    }
   ],
   "source": [
    "data.head()"
   ]
  },
  {
   "cell_type": "code",
   "execution_count": 10,
   "metadata": {
    "collapsed": false
   },
   "outputs": [],
   "source": [
    "n = data.shape[0]"
   ]
  },
  {
   "cell_type": "code",
   "execution_count": 11,
   "metadata": {
    "collapsed": false
   },
   "outputs": [
    {
     "name": "stdout",
     "output_type": "stream",
     "text": [
      "510 191\n"
     ]
    }
   ],
   "source": [
    "f = open('Deslist','r')\n",
    "Deslist = []\n",
    "for line in f:\n",
    "    Deslist.append(line.strip('\\n\\t'))\n",
    "#print(Deslist)\n",
    "calc = Calculator(Deslist)\n",
    "D = len(Deslist)\n",
    "d = len(Deslist)*2+3\n",
    "print(n,d)"
   ]
  },
  {
   "cell_type": "code",
   "execution_count": 12,
   "metadata": {
    "collapsed": false
   },
   "outputs": [
    {
     "name": "stdout",
     "output_type": "stream",
     "text": [
      "(510, 191)\n"
     ]
    }
   ],
   "source": [
    "X = np.zeros((n,d))\n",
    "X[:,-3] = data['T']\n",
    "X[:,-2] = data['P']\n",
    "for i in range(n):\n",
    "    cation = Chem.MolFromSmiles(data['SMILE_CAT'][i])\n",
    "    anion  = Chem.MolFromSmiles(data['SMILE_ANI'][i])\n",
    "    X[i][:D]    = calc.CalcDescriptors(cation)\n",
    "    X[i][D:2*D] = calc.CalcDescriptors(anion)\n",
    "\n",
    "X[:,-1] = data['densiy (kg/m3)']\n",
    "print(X.shape)\n",
    "\n",
    "np.savetxt(\"Density.txt\",X)"
   ]
  },
  {
   "cell_type": "code",
   "execution_count": null,
   "metadata": {
    "collapsed": true
   },
   "outputs": [],
   "source": []
  }
 ],
 "metadata": {
  "anaconda-cloud": {},
  "kernelspec": {
   "display_name": "Python [conda root]",
   "language": "python",
   "name": "conda-root-py"
  },
  "language_info": {
   "codemirror_mode": {
    "name": "ipython",
    "version": 3
   },
   "file_extension": ".py",
   "mimetype": "text/x-python",
   "name": "python",
   "nbconvert_exporter": "python",
   "pygments_lexer": "ipython3",
   "version": "3.5.2"
  }
 },
 "nbformat": 4,
 "nbformat_minor": 1
}
