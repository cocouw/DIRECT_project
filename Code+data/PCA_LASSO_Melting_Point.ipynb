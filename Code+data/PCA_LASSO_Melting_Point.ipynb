{
 "cells": [
  {
   "cell_type": "code",
   "execution_count": 5,
   "metadata": {
    "collapsed": false
   },
   "outputs": [],
   "source": [
    "import numpy as np\n",
    "import matplotlib.pyplot as plt\n",
    "import numpy.linalg as LA"
   ]
  },
  {
   "cell_type": "code",
   "execution_count": 6,
   "metadata": {
    "collapsed": false
   },
   "outputs": [
    {
     "name": "stdout",
     "output_type": "stream",
     "text": [
      "33 188\n"
     ]
    }
   ],
   "source": [
    "X = np.loadtxt('Meltingpoint.txt')\n",
    "n = X.shape[0]\n",
    "d = X.shape[1]\n",
    "d -= 1\n",
    "print(n,d)"
   ]
  },
  {
   "cell_type": "code",
   "execution_count": 7,
   "metadata": {
    "collapsed": false
   },
   "outputs": [
    {
     "name": "stdout",
     "output_type": "stream",
     "text": [
      "(26, 188)\n",
      "(7, 188)\n",
      "['steiger', 'Marsili Partial Charges', 'BalabanJ', 'BertzCT', 'Ipc', 'HallKierAlpha', 'Kappa1', 'Kappa2', 'Kappa3', 'Chi0', 'Chi1', 'Chi0n', 'Chi1n', 'Chi2n', 'Chi3n', 'Chi4n', 'Chi0v', 'Chi1v', 'Chi2v', 'Chi3v', 'Chi4v', 'MolLogP', 'MolMR', 'MolWt', 'HeavyAtomCount', 'HeavyAtomMolWt', 'NHOHCount', 'NOCount', 'NumHAcceptors', 'NumHDonors', 'NumHeteroatoms', 'NumRotatableBonds', 'NumValenceElectrons', 'RingCount', 'TPSA', 'LabuteASA', 'PEOE_VSA1', 'PEOE_VSA2', 'PEOE_VSA3', 'PEOE_VSA4', 'PEOE_VSA5', 'PEOE_VSA6', 'PEOE_VSA7', 'PEOE_VSA8', 'PEOE_VSA9', 'PEOE_VSA10', 'PEOE_VSA11', 'PEOE_VSA12', 'PEOE_VSA13', 'PEOE_VSA14', 'SMR_VSA1', 'SMR_VSA2', 'SMR_VSA3', 'SMR_VSA4', 'SMR_VSA5', 'SMR_VSA6', 'SMR_VSA7', 'SMR_VSA8', 'SMR_VSA9', 'SMR_VSA10', 'SlogP_VSA1', 'SlogP_VSA2', 'SlogP_VSA3', 'SlogP_VSA4', 'SlogP_VSA5', 'SlogP_VSA6', 'SlogP_VSA7', 'SlogP_VSA8', 'SlogP_VSA9', 'SlogP_VSA10', 'SlogP_VSA11', 'SlogP_VSA12', 'EState_VSA1', 'EState_VSA2', 'EState_VSA3', 'EState_VSA4', 'EState_VSA5', 'EState_VSA6', 'EState_VSA7', 'EState_VSA8', 'EState_VSA9', 'EState_VSA10', 'EState_VSA11', 'VSA_EState1', 'VSA_EState2', 'VSA_EState3', 'VSA_EState4', 'VSA_EState5', 'VSA_EState6', 'VSA_EState7', 'VSA_EState8', 'VSA_EState9', 'VSA_EState10', 'Topliss fragments']\n"
     ]
    }
   ],
   "source": [
    "n_train = int(n*0.8)\n",
    "n_test  = n - n_train\n",
    "X = np.random.permutation(X)\n",
    "\n",
    "X_train = np.zeros((n_train,d))\n",
    "X_test  = np.zeros((n_test,d))\n",
    "Y_train = np.zeros((n_train))\n",
    "Y_test = np.zeros((n_test))\n",
    "\n",
    "X_train[:] = X[:n_train,:-1]\n",
    "Y_train[:] = X[:n_train,-1]\n",
    "\n",
    "X_test[:] = X[n_train:,:-1]\n",
    "Y_test[:] = X[n_train:,-1]\n",
    "\n",
    "print(X_train.shape)\n",
    "print(X_test.shape)\n",
    "\n",
    "f = open('Deslist','r')\n",
    "Deslist = []\n",
    "for line in f:\n",
    "    Deslist.append(line.strip('\\n\\t'))\n",
    "print(Deslist)"
   ]
  },
  {
   "cell_type": "code",
   "execution_count": 11,
   "metadata": {
    "collapsed": false
   },
   "outputs": [
    {
     "name": "stdout",
     "output_type": "stream",
     "text": [
      "[[  4.75665273e+05   4.75665273e+05   1.67529133e+03 ...,  -1.77049404e+03\n",
      "   -2.64247483e+03   4.75665273e+05]\n",
      " [  4.75665273e+05   4.75665273e+05   1.67529133e+03 ...,  -1.77049404e+03\n",
      "   -2.64247483e+03   4.75665273e+05]\n",
      " [  1.67529133e+03   1.67529133e+03   5.94332671e+00 ...,  -6.76464531e+00\n",
      "   -9.51870178e+00   1.67529133e+03]\n",
      " ..., \n",
      " [ -1.77049404e+03  -1.77049404e+03  -6.76464531e+00 ...,   8.71576100e+01\n",
      "    3.76974985e+01  -1.77049404e+03]\n",
      " [ -2.64247483e+03  -2.64247483e+03  -9.51870178e+00 ...,   3.76974985e+01\n",
      "    3.90123967e+01  -2.64247483e+03]\n",
      " [  4.75665273e+05   4.75665273e+05   1.67529133e+03 ...,  -1.77049404e+03\n",
      "   -2.64247483e+03   4.75665273e+05]]\n",
      "[  5.66036319e+10 +0.00000000e+00j   2.96145659e+06 +0.00000000e+00j\n",
      "   1.05014091e+06 +0.00000000e+00j   2.41246777e+04 +0.00000000e+00j\n",
      "   1.04006635e+04 +0.00000000e+00j   9.08706809e+02 +0.00000000e+00j\n",
      "   3.97321910e+02 +0.00000000e+00j   3.12385065e+02 +0.00000000e+00j\n",
      "   1.82981145e+02 +0.00000000e+00j   1.17038046e+02 +0.00000000e+00j\n",
      "   5.91259179e+01 +0.00000000e+00j   4.17362864e+01 +0.00000000e+00j\n",
      "   3.74701618e+01 +0.00000000e+00j   2.62957473e+01 +0.00000000e+00j\n",
      "   6.95720533e+00 +0.00000000e+00j   3.45881961e+00 +0.00000000e+00j\n",
      "   3.81945554e-01 +0.00000000e+00j   1.77028839e-01 +0.00000000e+00j\n",
      "   5.03291778e-08 +0.00000000e+00j  -2.91857368e-08 +0.00000000e+00j\n",
      "  -5.17462032e-10 +0.00000000e+00j  -4.33205265e-11 +7.31591900e-11j\n",
      "  -4.33205265e-11 -7.31591900e-11j   4.94155579e-11 +2.34980066e-11j\n",
      "   4.94155579e-11 -2.34980066e-11j  -5.01623653e-11 +0.00000000e+00j\n",
      "   2.84234940e-11 +3.65349138e-11j   2.84234940e-11 -3.65349138e-11j\n",
      "   4.16225445e-11 +0.00000000e+00j  -2.92933746e-11 +2.87280171e-11j\n",
      "  -2.92933746e-11 -2.87280171e-11j   1.67448220e-11 +2.03918508e-11j\n",
      "   1.67448220e-11 -2.03918508e-11j  -2.20232256e-11 +1.36904343e-11j\n",
      "  -2.20232256e-11 -1.36904343e-11j  -5.85696345e-12 +1.25172023e-11j\n",
      "  -5.85696345e-12 -1.25172023e-11j   8.52219644e-12 +5.39957795e-12j\n",
      "   8.52219644e-12 -5.39957795e-12j  -7.08332898e-12 +3.84256122e-12j\n",
      "  -7.08332898e-12 -3.84256122e-12j  -6.40553484e-12 +0.00000000e+00j\n",
      "   1.86839656e-12 +2.58949900e-12j   1.86839656e-12 -2.58949900e-12j\n",
      "   1.23933557e-12 +0.00000000e+00j  -1.04414505e-12 +6.07700639e-13j\n",
      "  -1.04414505e-12 -6.07700639e-13j  -5.35499777e-13 +2.71542854e-13j\n",
      "  -5.35499777e-13 -2.71542854e-13j   1.15287436e-13 +5.44988094e-13j\n",
      "   1.15287436e-13 -5.44988094e-13j   5.22540565e-13 +8.29892640e-14j\n",
      "   5.22540565e-13 -8.29892640e-14j   4.70238717e-15 +3.66221653e-13j\n",
      "   4.70238717e-15 -3.66221653e-13j  -3.45583452e-13 +0.00000000e+00j\n",
      "   3.44366556e-13 +0.00000000e+00j   1.58224447e-13 +2.22106121e-13j\n",
      "   1.58224447e-13 -2.22106121e-13j  -2.29443682e-13 +0.00000000e+00j\n",
      "  -1.68428347e-13 +0.00000000e+00j  -1.39594940e-13 +7.95386207e-14j\n",
      "  -1.39594940e-13 -7.95386207e-14j   1.33681442e-13 +5.88147456e-14j\n",
      "   1.33681442e-13 -5.88147456e-14j   1.50468958e-13 +0.00000000e+00j\n",
      "  -2.38740346e-15 +1.43156442e-13j  -2.38740346e-15 -1.43156442e-13j\n",
      "  -7.72001084e-14 +1.11471354e-13j  -7.72001084e-14 -1.11471354e-13j\n",
      "   4.46182563e-14 +9.35769592e-14j   4.46182563e-14 -9.35769592e-14j\n",
      "   9.60556389e-14 +0.00000000e+00j   8.43282935e-14 +0.00000000e+00j\n",
      "  -9.26477374e-14 +0.00000000e+00j  -5.27407205e-14 +5.56097421e-14j\n",
      "  -5.27407205e-14 -5.56097421e-14j   5.40248619e-14 +5.44640027e-14j\n",
      "   5.40248619e-14 -5.44640027e-14j  -4.72106054e-14 +0.00000000e+00j\n",
      "   2.90985788e-14 +4.04560989e-14j   2.90985788e-14 -4.04560989e-14j\n",
      "  -4.81795690e-14 +1.17986349e-14j  -4.81795690e-14 -1.17986349e-14j\n",
      "  -9.19605898e-15 +4.51873519e-14j  -9.19605898e-15 -4.51873519e-14j\n",
      "   4.33495906e-14 +0.00000000e+00j  -3.07629813e-14 +1.22534038e-14j\n",
      "  -3.07629813e-14 -1.22534038e-14j   2.18644212e-14 +1.05646326e-14j\n",
      "   2.18644212e-14 -1.05646326e-14j   2.31528463e-14 +0.00000000e+00j\n",
      "   1.06880076e-14 +1.62396917e-14j   1.06880076e-14 -1.62396917e-14j\n",
      "   4.09878159e-15 +1.79746151e-14j   4.09878159e-15 -1.79746151e-14j\n",
      "  -1.19312381e-14 +1.30751798e-14j  -1.19312381e-14 -1.30751798e-14j\n",
      "   9.91442386e-15 +0.00000000e+00j   7.85759396e-15 +6.14098735e-15j\n",
      "   7.85759396e-15 -6.14098735e-15j   5.09670449e-16 +8.00237304e-15j\n",
      "   5.09670449e-16 -8.00237304e-15j  -7.42840892e-15 +0.00000000e+00j\n",
      "   6.21358393e-15 +0.00000000e+00j   6.16272962e-16 +4.77107297e-15j\n",
      "   6.16272962e-16 -4.77107297e-15j  -2.32069882e-15 +3.25466025e-15j\n",
      "  -2.32069882e-15 -3.25466025e-15j   3.36186157e-15 +0.00000000e+00j\n",
      "  -3.59553608e-15 +1.43713537e-15j  -3.59553608e-15 -1.43713537e-15j\n",
      "   9.63091311e-16 +2.22098535e-15j   9.63091311e-16 -2.22098535e-15j\n",
      "  -2.90068057e-15 +0.00000000e+00j   1.47917823e-15 +0.00000000e+00j\n",
      "  -6.83742496e-16 +8.32980044e-16j  -6.83742496e-16 -8.32980044e-16j\n",
      "   4.92256961e-16 +4.43979396e-16j   4.92256961e-16 -4.43979396e-16j\n",
      "   2.59375924e-16 +0.00000000e+00j  -9.79873955e-17 +0.00000000e+00j\n",
      "  -4.42859725e-18 +0.00000000e+00j   1.91559501e-18 +0.00000000e+00j\n",
      "   1.08438087e-20 +4.07394095e-21j   1.08438087e-20 -4.07394095e-21j\n",
      "  -4.74188008e-21 +0.00000000e+00j   2.47508161e-22 +0.00000000e+00j\n",
      "   1.31275772e-22 +0.00000000e+00j   1.15881711e-26 +0.00000000e+00j\n",
      "   2.51900099e-26 +0.00000000e+00j   4.84680578e-28 +3.83256444e-28j\n",
      "   4.84680578e-28 -3.83256444e-28j  -4.11068089e-27 +0.00000000e+00j\n",
      "  -5.41267955e-27 +0.00000000e+00j   0.00000000e+00 +0.00000000e+00j\n",
      "   0.00000000e+00 +0.00000000e+00j   0.00000000e+00 +0.00000000e+00j\n",
      "   0.00000000e+00 +0.00000000e+00j   0.00000000e+00 +0.00000000e+00j\n",
      "   0.00000000e+00 +0.00000000e+00j   0.00000000e+00 +0.00000000e+00j\n",
      "   0.00000000e+00 +0.00000000e+00j   0.00000000e+00 +0.00000000e+00j\n",
      "   0.00000000e+00 +0.00000000e+00j   0.00000000e+00 +0.00000000e+00j\n",
      "   0.00000000e+00 +0.00000000e+00j   0.00000000e+00 +0.00000000e+00j\n",
      "   0.00000000e+00 +0.00000000e+00j   0.00000000e+00 +0.00000000e+00j\n",
      "   0.00000000e+00 +0.00000000e+00j   0.00000000e+00 +0.00000000e+00j\n",
      "   0.00000000e+00 +0.00000000e+00j   0.00000000e+00 +0.00000000e+00j\n",
      "   0.00000000e+00 +0.00000000e+00j   0.00000000e+00 +0.00000000e+00j\n",
      "   0.00000000e+00 +0.00000000e+00j   0.00000000e+00 +0.00000000e+00j\n",
      "   0.00000000e+00 +0.00000000e+00j   0.00000000e+00 +0.00000000e+00j\n",
      "   0.00000000e+00 +0.00000000e+00j   0.00000000e+00 +0.00000000e+00j\n",
      "   0.00000000e+00 +0.00000000e+00j   0.00000000e+00 +0.00000000e+00j\n",
      "   0.00000000e+00 +0.00000000e+00j   0.00000000e+00 +0.00000000e+00j\n",
      "   0.00000000e+00 +0.00000000e+00j   0.00000000e+00 +0.00000000e+00j\n",
      "   0.00000000e+00 +0.00000000e+00j   0.00000000e+00 +0.00000000e+00j\n",
      "   0.00000000e+00 +0.00000000e+00j   0.00000000e+00 +0.00000000e+00j\n",
      "   0.00000000e+00 +0.00000000e+00j   0.00000000e+00 +0.00000000e+00j\n",
      "   0.00000000e+00 +0.00000000e+00j   0.00000000e+00 +0.00000000e+00j\n",
      "   0.00000000e+00 +0.00000000e+00j   0.00000000e+00 +0.00000000e+00j\n",
      "   0.00000000e+00 +0.00000000e+00j   0.00000000e+00 +0.00000000e+00j\n",
      "   0.00000000e+00 +0.00000000e+00j   0.00000000e+00 +0.00000000e+00j\n",
      "   0.00000000e+00 +0.00000000e+00j   0.00000000e+00 +0.00000000e+00j\n",
      "   0.00000000e+00 +0.00000000e+00j   0.00000000e+00 +0.00000000e+00j\n",
      "   0.00000000e+00 +0.00000000e+00j   0.00000000e+00 +0.00000000e+00j]\n"
     ]
    }
   ],
   "source": [
    "sig = np.zeros((d,d))\n",
    "row = np.zeros((d,d))\n",
    "\n",
    "for i in range (n_train):\n",
    "    row  = X_train[i].reshape((d,1))\n",
    "    sig += row.dot(row.T)\n",
    "sig = sig/n\n",
    "print(sig)\n",
    "w,v = LA.eig(sig)\n",
    "print(w)"
   ]
  },
  {
   "cell_type": "code",
   "execution_count": 15,
   "metadata": {
    "collapsed": true
   },
   "outputs": [],
   "source": [
    "K = 10\n",
    "X_train_k = X_train.dot(v[:,:K])\n",
    "X_test_k  = X_test.dot(v[:,:K])"
   ]
  },
  {
   "cell_type": "code",
   "execution_count": 16,
   "metadata": {
    "collapsed": false
   },
   "outputs": [
    {
     "name": "stderr",
     "output_type": "stream",
     "text": [
      "/Users/prguser/anaconda3/lib/python3.5/site-packages/ipykernel/__main__.py:20: ComplexWarning: Casting complex values to real discards the imaginary part\n",
      "/Users/prguser/anaconda3/lib/python3.5/site-packages/ipykernel/__main__.py:22: ComplexWarning: Casting complex values to real discards the imaginary part\n"
     ]
    }
   ],
   "source": [
    "converged = False\n",
    "w = np.zeros(K)\n",
    "yh = np.zeros(n_train)\n",
    "rgl= 2\n",
    "w0 = w0last = 0\n",
    "ITR = 1000\n",
    "itr = 0\n",
    "L = np.zeros(ITR)\n",
    "while not converged: \n",
    "    yh = np.add(X_train_k.dot(w), w0*np.ones(n_train))\n",
    "    w0last = w0\n",
    "    wlast = np.copy(w)\n",
    "    w0 = np.sum(np.subtract(Y_train, yh))/n_train\n",
    "    yh = np.add(yh,(w0-w0last)*np.ones(n_train))\n",
    "    for k in range (0,K):\n",
    "        Xk = X_train_k[:,k]\n",
    "        ak = Xk.T.dot(Xk)\n",
    "        ck = Xk.T.dot(Y_train-yh+w[k]*Xk)\n",
    "        if ck < (-1 * rgl):\n",
    "            w[k] = (ck + rgl)/ak\n",
    "        elif ck > rgl:\n",
    "            w[k] = (ck - rgl)/ak\n",
    "        else:\n",
    "            w[k] = 0\n",
    "        yh = np.add(yh,(w[k]-wlast[k])*X_train_k[:,k])    \n",
    "    SUB = np.subtract(w, wlast)\n",
    "    check = np.dot(SUB.T,SUB)\n",
    "    if (check< 0.0000000001):\n",
    "        converged = True\n",
    "        break     \n",
    "    itr += 1\n",
    "    if itr == ITR:\n",
    "        break"
   ]
  },
  {
   "cell_type": "code",
   "execution_count": 17,
   "metadata": {
    "collapsed": false
   },
   "outputs": [
    {
     "ename": "ValueError",
     "evalue": "shapes (26,188) and (10,) not aligned: 188 (dim 1) != 10 (dim 0)",
     "output_type": "error",
     "traceback": [
      "\u001b[0;31m---------------------------------------------------------------------------\u001b[0m",
      "\u001b[0;31mValueError\u001b[0m                                Traceback (most recent call last)",
      "\u001b[0;32m<ipython-input-17-12303185502f>\u001b[0m in \u001b[0;36m<module>\u001b[0;34m()\u001b[0m\n\u001b[0;32m----> 1\u001b[0;31m \u001b[0my_train\u001b[0m \u001b[0;34m=\u001b[0m \u001b[0mnp\u001b[0m\u001b[0;34m.\u001b[0m\u001b[0madd\u001b[0m\u001b[0;34m(\u001b[0m\u001b[0mX_train\u001b[0m\u001b[0;34m.\u001b[0m\u001b[0mdot\u001b[0m\u001b[0;34m(\u001b[0m\u001b[0mw\u001b[0m\u001b[0;34m)\u001b[0m\u001b[0;34m,\u001b[0m \u001b[0mw0\u001b[0m\u001b[0;34m*\u001b[0m\u001b[0mnp\u001b[0m\u001b[0;34m.\u001b[0m\u001b[0mones\u001b[0m\u001b[0;34m(\u001b[0m\u001b[0mn_train\u001b[0m\u001b[0;34m)\u001b[0m\u001b[0;34m)\u001b[0m\u001b[0;34m\u001b[0m\u001b[0m\n\u001b[0m\u001b[1;32m      2\u001b[0m \u001b[0mprint\u001b[0m\u001b[0;34m(\u001b[0m\u001b[0mLA\u001b[0m\u001b[0;34m.\u001b[0m\u001b[0mnorm\u001b[0m\u001b[0;34m(\u001b[0m\u001b[0mY_train\u001b[0m\u001b[0;34m-\u001b[0m\u001b[0my_train\u001b[0m\u001b[0;34m)\u001b[0m\u001b[0;34m)\u001b[0m\u001b[0;34m\u001b[0m\u001b[0m\n\u001b[1;32m      3\u001b[0m \u001b[0mD\u001b[0m \u001b[0;34m=\u001b[0m \u001b[0mint\u001b[0m\u001b[0;34m(\u001b[0m\u001b[0md\u001b[0m\u001b[0;34m/\u001b[0m\u001b[0;36m2\u001b[0m\u001b[0;34m)\u001b[0m\u001b[0;34m\u001b[0m\u001b[0m\n\u001b[1;32m      4\u001b[0m \u001b[0;32mfor\u001b[0m \u001b[0mi\u001b[0m \u001b[0;32min\u001b[0m \u001b[0mrange\u001b[0m\u001b[0;34m(\u001b[0m\u001b[0md\u001b[0m\u001b[0;34m)\u001b[0m\u001b[0;34m:\u001b[0m\u001b[0;34m\u001b[0m\u001b[0m\n\u001b[1;32m      5\u001b[0m     \u001b[0;32mif\u001b[0m \u001b[0mw\u001b[0m\u001b[0;34m[\u001b[0m\u001b[0mi\u001b[0m\u001b[0;34m]\u001b[0m\u001b[0;34m>\u001b[0m\u001b[0;36m0\u001b[0m \u001b[0;34m:\u001b[0m\u001b[0;34m\u001b[0m\u001b[0m\n",
      "\u001b[0;31mValueError\u001b[0m: shapes (26,188) and (10,) not aligned: 188 (dim 1) != 10 (dim 0)"
     ]
    }
   ],
   "source": []
  },
  {
   "cell_type": "code",
   "execution_count": 22,
   "metadata": {
    "collapsed": false
   },
   "outputs": [
    {
     "name": "stderr",
     "output_type": "stream",
     "text": [
      "/Users/prguser/anaconda3/lib/python3.5/site-packages/numpy/core/numeric.py:482: ComplexWarning: Casting complex values to real discards the imaginary part\n",
      "  return array(a, dtype, copy=False, order=order)\n"
     ]
    },
    {
     "data": {
      "image/png": "[encoded data removed]",
      "text/plain": [
       "<matplotlib.figure.Figure at 0x10e1ff438>"
      ]
     },
     "metadata": {},
     "output_type": "display_data"
    }
   ],
   "source": [
    "y_train = np.add(X_train_k.dot(w), w0*np.ones(n_train))\n",
    "plt.plot(Y_train,y_train,\"o\",color ='pink')\n",
    "plt.plot(np.arange(240,420),np.arange(240,420),color = 'black')\n",
    "plt.axis([240,420,240,420])\n",
    "plt.xlabel('experiment value')\n",
    "plt.ylabel('prediction')\n",
    "plt.title('Prediction on training data')\n",
    "plt.show()"
   ]
  },
  {
   "cell_type": "code",
   "execution_count": 21,
   "metadata": {
    "collapsed": false
   },
   "outputs": [
    {
     "name": "stderr",
     "output_type": "stream",
     "text": [
      "/Users/prguser/anaconda3/lib/python3.5/site-packages/numpy/core/numeric.py:482: ComplexWarning: Casting complex values to real discards the imaginary part\n",
      "  return array(a, dtype, copy=False, order=order)\n"
     ]
    },
    {
     "data": {
      "image/png": "[encoded data removed]",
      "text/plain": [
       "<matplotlib.figure.Figure at 0x10de685c0>"
      ]
     },
     "metadata": {},
     "output_type": "display_data"
    }
   ],
   "source": [
    "y_test = np.add(X_test_k.dot(w), w0*np.ones(n_test))\n",
    "plt.plot(Y_test,y_test,\"o\",color ='pink')\n",
    "plt.plot(np.arange(240,420),np.arange(240,420),color = 'black')\n",
    "plt.axis([240,420,240,420])\n",
    "plt.xlabel('experiment value')\n",
    "plt.ylabel('prediction')\n",
    "plt.title('prediction on test data')\n",
    "plt.show()"
   ]
  },
  {
   "cell_type": "code",
   "execution_count": null,
   "metadata": {
    "collapsed": true
   },
   "outputs": [],
   "source": []
  }
 ],
 "metadata": {
  "anaconda-cloud": {},
  "kernelspec": {
   "display_name": "Python [conda root]",
   "language": "python",
   "name": "conda-root-py"
  },
  "language_info": {
   "codemirror_mode": {
    "name": "ipython",
    "version": 3
   },
   "file_extension": ".py",
   "mimetype": "text/x-python",
   "name": "python",
   "nbconvert_exporter": "python",
   "pygments_lexer": "ipython3",
   "version": "3.5.2"
  }
 },
 "nbformat": 4,
 "nbformat_minor": 1
}
