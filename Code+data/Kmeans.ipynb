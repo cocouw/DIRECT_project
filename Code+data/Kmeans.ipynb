{
 "cells": [
  {
   "cell_type": "code",
   "execution_count": 1,
   "metadata": {
    "collapsed": false
   },
   "outputs": [
    {
     "ename": "ImportError",
     "evalue": "No module named 'rdkit'",
     "output_type": "error",
     "traceback": [
      "\u001b[0;31m---------------------------------------------------------------------------\u001b[0m",
      "\u001b[0;31mImportError\u001b[0m                               Traceback (most recent call last)",
      "\u001b[0;32m<ipython-input-1-29e7d32dfe6b>\u001b[0m in \u001b[0;36m<module>\u001b[0;34m()\u001b[0m\n\u001b[1;32m      3\u001b[0m \u001b[0;32mimport\u001b[0m \u001b[0mnumpy\u001b[0m \u001b[0;32mas\u001b[0m \u001b[0mnp\u001b[0m\u001b[0;34m\u001b[0m\u001b[0m\n\u001b[1;32m      4\u001b[0m \u001b[0;32mfrom\u001b[0m \u001b[0m__future__\u001b[0m \u001b[0;32mimport\u001b[0m \u001b[0mprint_function\u001b[0m\u001b[0;34m\u001b[0m\u001b[0m\n\u001b[0;32m----> 5\u001b[0;31m \u001b[0;32mfrom\u001b[0m \u001b[0mrdkit\u001b[0m \u001b[0;32mimport\u001b[0m \u001b[0mChem\u001b[0m\u001b[0;34m\u001b[0m\u001b[0m\n\u001b[0m\u001b[1;32m      6\u001b[0m \u001b[0;32mfrom\u001b[0m \u001b[0mrdkit\u001b[0m\u001b[0;34m.\u001b[0m\u001b[0mChem\u001b[0m \u001b[0;32mimport\u001b[0m \u001b[0mAllChem\u001b[0m\u001b[0;34m\u001b[0m\u001b[0m\n\u001b[1;32m      7\u001b[0m \u001b[0;32mfrom\u001b[0m \u001b[0mrdkit\u001b[0m\u001b[0;34m.\u001b[0m\u001b[0mChem\u001b[0m \u001b[0;32mimport\u001b[0m \u001b[0mDescriptors\u001b[0m\u001b[0;34m\u001b[0m\u001b[0m\n",
      "\u001b[0;31mImportError\u001b[0m: No module named 'rdkit'"
     ]
    }
   ],
   "source": [
    "import pandas as pd\n",
    "import matplotlib.pyplot as plt\n",
    "import numpy as np\n",
    "from __future__ import print_function\n",
    "from rdkit import Chem\n",
    "from rdkit.Chem import AllChem\n",
    "from rdkit.Chem import Descriptors\n",
    "from rdkit.ML.Descriptors.MoleculeDescriptors import MolecularDescriptorCalculator as Calculator\n",
    "from numpy import linalg as LA\n",
    "from rdkit.Chem import Draw"
   ]
  },
  {
   "cell_type": "code",
   "execution_count": null,
   "metadata": {
    "collapsed": false
   },
   "outputs": [],
   "source": [
    "data = pd.DataFrame.from_csv('cations.csv')"
   ]
  },
  {
   "cell_type": "code",
   "execution_count": null,
   "metadata": {
    "collapsed": false,
    "scrolled": true
   },
   "outputs": [],
   "source": [
    "data.head()"
   ]
  },
  {
   "cell_type": "code",
   "execution_count": null,
   "metadata": {
    "collapsed": false
   },
   "outputs": [],
   "source": [
    "n = data.shape[0]"
   ]
  },
  {
   "cell_type": "code",
   "execution_count": null,
   "metadata": {
    "collapsed": false
   },
   "outputs": [],
   "source": [
    "f = open('Deslist','r')\n",
    "Deslist = []\n",
    "for line in f:\n",
    "    Deslist.append(line.strip('\\n\\t'))\n",
    "#print(Deslist)\n",
    "calc = Calculator(Deslist)\n",
    "d = len(Deslist)\n",
    "print(n,d)"
   ]
  },
  {
   "cell_type": "code",
   "execution_count": null,
   "metadata": {
    "collapsed": false
   },
   "outputs": [],
   "source": [
    "X = np.zeros((n,d+1))\n",
    "for i in range(n):\n",
    "    cation = Chem.MolFromSmiles(data['SMILE'][i])\n",
    "    X[i][:d]    = calc.CalcDescriptors(cation)\n",
    "    X[i][d] = i\n",
    "print(X.shape)"
   ]
  },
  {
   "cell_type": "code",
   "execution_count": null,
   "metadata": {
    "collapsed": false
   },
   "outputs": [],
   "source": [
    "n_train = int(n*0.8)\n",
    "n_test  = n - n_train\n",
    "X = np.random.permutation(X)\n",
    "\n",
    "X_train = np.zeros((n_train,d))\n",
    "X_test  = np.zeros((n_test,d))\n",
    "Y_train = np.zeros((n_train))\n",
    "Y_test = np.zeros((n_test))\n",
    "\n",
    "X_train[:] = X[:n_train,:-1]\n",
    "Y_train[:] = X[:n_train,-1]\n",
    "\n",
    "X_test[:] = X[n_train:,:-1]\n",
    "Y_test[:] = X[n_train:,-1]\n",
    "\n",
    "print(X_train.shape)\n",
    "print(X_test.shape)"
   ]
  },
  {
   "cell_type": "code",
   "execution_count": null,
   "metadata": {
    "collapsed": false
   },
   "outputs": [],
   "source": [
    "k = 4\n",
    "itr = 0\n",
    "cent =np.copy(X_train[:k,:])\n",
    "C = np.zeros((n_train))  \n",
    "flag = True\n",
    "ITR = 15\n",
    "squareloss = np.zeros((ITR+1))\n",
    "while flag:\n",
    "    cn = np.zeros(k)\n",
    "    csum = np.zeros((k,d))\n",
    "    flag = False\n",
    "    for i in range(n_train):\n",
    "        minm = 1e15\n",
    "        for j in range(k):\n",
    "            if (LA.norm(X_train[i]-cent[j])<minm):\n",
    "                minm = LA.norm(X_train[i]-cent[j])\n",
    "                m = j\n",
    "        if C[i] != m :\n",
    "            flag = True\n",
    "        C[i] = m\n",
    "        cn[m] += 1\n",
    "        csum[m] += X_train[i]\n",
    "        squareloss[itr] += np.square(LA.norm(X_train[i]-cent[m]))\n",
    "    if itr == ITR:\n",
    "        break\n",
    "    for i in range(k):\n",
    "        cent[i] = csum[i] / cn[i] \n",
    "    itr += 1   "
   ]
  },
  {
   "cell_type": "code",
   "execution_count": null,
   "metadata": {
    "collapsed": false
   },
   "outputs": [],
   "source": [
    "print(squareloss)\n",
    "plt.plot(np.arange(0,ITR+1),np.log(squareloss), color=\"blue\", label=\"Squared resonstruction error\")\n",
    "plt.xlabel('iteration')\n",
    "plt.ylabel('error')\n",
    "plt.legend(loc= \"upper right\")\n",
    "plt.show()"
   ]
  },
  {
   "cell_type": "code",
   "execution_count": null,
   "metadata": {
    "collapsed": false
   },
   "outputs": [],
   "source": [
    "for i in range(k):\n",
    "    cn[i] = 0\n",
    "    cation = []\n",
    "    anion  = []\n",
    "    for j in range(n_train):\n",
    "        if C[j] == i :\n",
    "            cn[i] += 1\n",
    "            cation.append(data['SMILE'][Y_train[j]])\n",
    "    cation = sorted(cation)\n",
    "    anion = sorted(anion)\n",
    "    for j in range(int(cn[i])):\n",
    "        if j == 0 :\n",
    "            m = Chem.MolFromSmiles(cation[j])\n",
    "            Draw.MolToFile(m,'./pic/{}cation{}.png'.format(i,j))\n",
    "        if j>0:\n",
    "            if cation[j]!=cation[j-1]:\n",
    "                m = Chem.MolFromSmiles(cation[j])\n",
    "                Draw.MolToFile(m,'./pic/{}cation{}.png'.format(i,j))"
   ]
  },
  {
   "cell_type": "code",
   "execution_count": null,
   "metadata": {
    "collapsed": false,
    "scrolled": false
   },
   "outputs": [],
   "source": [
    "for i in range(k):\n",
    "    print(\"Cluster\",i)\n",
    "    cn[i] = 0\n",
    "    clist = []\n",
    "    for j in range(n_train):\n",
    "        if C[j] == i :\n",
    "            cn[i] += 1\n",
    "            clist.append(data['label'][Y_train[j]]+'   '+data['NAME'][Y_train[j]])  \n",
    "    csort = sorted(clist)\n",
    "    for j in range(int(cn[i])):\n",
    "        print(csort[j])"
   ]
  },
  {
   "cell_type": "code",
   "execution_count": null,
   "metadata": {
    "collapsed": true
   },
   "outputs": [],
   "source": []
  }
 ],
 "metadata": {
  "anaconda-cloud": {},
  "kernelspec": {
   "display_name": "Python [conda root]",
   "language": "python",
   "name": "conda-root-py"
  },
  "language_info": {
   "codemirror_mode": {
    "name": "ipython",
    "version": 3
   },
   "file_extension": ".py",
   "mimetype": "text/x-python",
   "name": "python",
   "nbconvert_exporter": "python",
   "pygments_lexer": "ipython3",
   "version": "3.5.2"
  }
 },
 "nbformat": 4,
 "nbformat_minor": 1
}
