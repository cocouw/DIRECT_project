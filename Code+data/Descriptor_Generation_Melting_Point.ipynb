{
 "cells": [
  {
   "cell_type": "code",
   "execution_count": 13,
   "metadata": {
    "collapsed": false
   },
   "outputs": [],
   "source": [
    "import pandas as pd\n",
    "import matplotlib.pyplot as plt\n",
    "import numpy as np\n",
    "from __future__ import print_function\n",
    "from rdkit import Chem\n",
    "from rdkit.Chem import AllChem\n",
    "from rdkit.Chem import Descriptors\n",
    "from rdkit.ML.Descriptors.MoleculeDescriptors import MolecularDescriptorCalculator as Calculator"
   ]
  },
  {
   "cell_type": "code",
   "execution_count": 14,
   "metadata": {
    "collapsed": false
   },
   "outputs": [],
   "source": [
    "data = pd.DataFrame.from_csv('meltingpoint.csv')"
   ]
  },
  {
   "cell_type": "code",
   "execution_count": 15,
   "metadata": {
    "collapsed": false
   },
   "outputs": [
    {
     "data": {
      "text/html": [
       "<div>\n",
       "<table border=\"1\" class=\"dataframe\">\n",
       "  <thead>\n",
       "    <tr style=\"text-align: right;\">\n",
       "      <th></th>\n",
       "      <th>SMILE_CAT</th>\n",
       "      <th>NAME_ANI</th>\n",
       "      <th>SMILE_ANI</th>\n",
       "      <th>melting point(K)</th>\n",
       "      <th>Reference</th>\n",
       "    </tr>\n",
       "    <tr>\n",
       "      <th>NAME_CAT</th>\n",
       "      <th></th>\n",
       "      <th></th>\n",
       "      <th></th>\n",
       "      <th></th>\n",
       "      <th></th>\n",
       "    </tr>\n",
       "  </thead>\n",
       "  <tbody>\n",
       "    <tr>\n",
       "      <th>1-ethyl-3-methylimidazolium</th>\n",
       "      <td>CCN1C=C[N+](=C1)C</td>\n",
       "      <td>1,1,2,2,2-pentafluoro-N-[(pentafluoroethyl)sul...</td>\n",
       "      <td>C(C(F)(F)S(=O)(=O)[N-]S(=O)(=O)C(C(F)(F)F)(F)F...</td>\n",
       "      <td>289.1</td>\n",
       "      <td>Villanueva, M.; Parajo, J. J.; Sanchez, P. B.;...</td>\n",
       "    </tr>\n",
       "    <tr>\n",
       "      <th>1-ethyl-3-methylimidazolium</th>\n",
       "      <td>CCN1C=C[N+](=C1)C</td>\n",
       "      <td>4-methylbenzenesulfonate</td>\n",
       "      <td>[CH2]C1=CC=C(C=C1)S(=O)(=O)[O-]</td>\n",
       "      <td>328</td>\n",
       "      <td>Vila, J.; Fernandez-Castro, B.; Rilo, E.; Carr...</td>\n",
       "    </tr>\n",
       "    <tr>\n",
       "      <th>1,3-dimethylimidazolium</th>\n",
       "      <td>CN1C=C[N+](=C1)C</td>\n",
       "      <td>bis((trifluoromethyl)sulfonyl)amide</td>\n",
       "      <td>C(F)(F)(F)S(=O)(=O)[N-]S(=O)(=O)C(F)(F)F</td>\n",
       "      <td>299.1</td>\n",
       "      <td>Tokuda, H.; Tsuzuki, S.; Susan, M. A. B. H.; H...</td>\n",
       "    </tr>\n",
       "    <tr>\n",
       "      <th>1-butyl-3-methylimidazolium</th>\n",
       "      <td>CCCCN1C=C[N+](=C1)C</td>\n",
       "      <td>bis(trifluoromethylsulfonyl)imide</td>\n",
       "      <td>C(F)(F)(F)S(=O)(=O)[N-]S(=O)(=O)C(F)(F)F</td>\n",
       "      <td>268.5</td>\n",
       "      <td>Xue, L.; Gurung, E.; Tamas, G.; Koh, Y. P.; Sh...</td>\n",
       "    </tr>\n",
       "    <tr>\n",
       "      <th>1-ethyl-2,3-dimethylimidazolium</th>\n",
       "      <td>CCN1C=C[N+](=C1C)C</td>\n",
       "      <td>bis[(pentafluoroethyl)sulfonyl]imide</td>\n",
       "      <td>C(C(F)(F)S(=O)(=O)[N-]S(=O)(=O)C(C(F)(F)F)(F)F...</td>\n",
       "      <td>298.1</td>\n",
       "      <td>Ngo, H. L.; LeCompte, K.; Hargens, L.; McEwen,...</td>\n",
       "    </tr>\n",
       "  </tbody>\n",
       "</table>\n",
       "</div>"
      ],
      "text/plain": [
       "                                            SMILE_CAT  \\\n",
       "NAME_CAT                                                \n",
       "1-ethyl-3-methylimidazolium         CCN1C=C[N+](=C1)C   \n",
       "1-ethyl-3-methylimidazolium         CCN1C=C[N+](=C1)C   \n",
       "1,3-dimethylimidazolium              CN1C=C[N+](=C1)C   \n",
       "1-butyl-3-methylimidazolium       CCCCN1C=C[N+](=C1)C   \n",
       "1-ethyl-2,3-dimethylimidazolium    CCN1C=C[N+](=C1C)C   \n",
       "\n",
       "                                                                           NAME_ANI  \\\n",
       "NAME_CAT                                                                              \n",
       "1-ethyl-3-methylimidazolium       1,1,2,2,2-pentafluoro-N-[(pentafluoroethyl)sul...   \n",
       "1-ethyl-3-methylimidazolium                                4-methylbenzenesulfonate   \n",
       "1,3-dimethylimidazolium                        bis((trifluoromethyl)sulfonyl)amide    \n",
       "1-butyl-3-methylimidazolium                       bis(trifluoromethylsulfonyl)imide   \n",
       "1-ethyl-2,3-dimethylimidazolium                bis[(pentafluoroethyl)sulfonyl]imide   \n",
       "\n",
       "                                                                          SMILE_ANI  \\\n",
       "NAME_CAT                                                                              \n",
       "1-ethyl-3-methylimidazolium       C(C(F)(F)S(=O)(=O)[N-]S(=O)(=O)C(C(F)(F)F)(F)F...   \n",
       "1-ethyl-3-methylimidazolium                         [CH2]C1=CC=C(C=C1)S(=O)(=O)[O-]   \n",
       "1,3-dimethylimidazolium                    C(F)(F)(F)S(=O)(=O)[N-]S(=O)(=O)C(F)(F)F   \n",
       "1-butyl-3-methylimidazolium                C(F)(F)(F)S(=O)(=O)[N-]S(=O)(=O)C(F)(F)F   \n",
       "1-ethyl-2,3-dimethylimidazolium   C(C(F)(F)S(=O)(=O)[N-]S(=O)(=O)C(C(F)(F)F)(F)F...   \n",
       "\n",
       "                                 melting point(K)  \\\n",
       "NAME_CAT                                            \n",
       "1-ethyl-3-methylimidazolium                 289.1   \n",
       "1-ethyl-3-methylimidazolium                   328   \n",
       "1,3-dimethylimidazolium                     299.1   \n",
       "1-butyl-3-methylimidazolium                 268.5   \n",
       "1-ethyl-2,3-dimethylimidazolium            298.1    \n",
       "\n",
       "                                                                          Reference  \n",
       "NAME_CAT                                                                             \n",
       "1-ethyl-3-methylimidazolium       Villanueva, M.; Parajo, J. J.; Sanchez, P. B.;...  \n",
       "1-ethyl-3-methylimidazolium       Vila, J.; Fernandez-Castro, B.; Rilo, E.; Carr...  \n",
       "1,3-dimethylimidazolium           Tokuda, H.; Tsuzuki, S.; Susan, M. A. B. H.; H...  \n",
       "1-butyl-3-methylimidazolium       Xue, L.; Gurung, E.; Tamas, G.; Koh, Y. P.; Sh...  \n",
       "1-ethyl-2,3-dimethylimidazolium   Ngo, H. L.; LeCompte, K.; Hargens, L.; McEwen,...  "
      ]
     },
     "execution_count": 15,
     "metadata": {},
     "output_type": "execute_result"
    }
   ],
   "source": [
    "data.head()"
   ]
  },
  {
   "cell_type": "code",
   "execution_count": 16,
   "metadata": {
    "collapsed": false
   },
   "outputs": [
    {
     "name": "stdout",
     "output_type": "stream",
     "text": [
      "33\n"
     ]
    }
   ],
   "source": [
    "n = data.shape[0]\n",
    "print(n)"
   ]
  },
  {
   "cell_type": "code",
   "execution_count": 17,
   "metadata": {
    "collapsed": false
   },
   "outputs": [
    {
     "name": "stdout",
     "output_type": "stream",
     "text": [
      "33 189\n"
     ]
    }
   ],
   "source": [
    "f = open('Deslist','r')\n",
    "Deslist = []\n",
    "for line in f:\n",
    "    Deslist.append(line.strip('\\n\\t'))\n",
    "#print(Deslist)\n",
    "calc = Calculator(Deslist)\n",
    "D = len(Deslist)\n",
    "d = len(Deslist)*2+1\n",
    "print(n,d)"
   ]
  },
  {
   "cell_type": "code",
   "execution_count": 18,
   "metadata": {
    "collapsed": false
   },
   "outputs": [
    {
     "name": "stdout",
     "output_type": "stream",
     "text": [
      "0\n",
      "1\n",
      "2\n",
      "3\n",
      "4\n",
      "5\n",
      "6\n",
      "7\n",
      "8\n",
      "9\n",
      "10\n",
      "11\n",
      "12\n",
      "13\n",
      "14\n",
      "15\n",
      "16\n",
      "17\n",
      "18\n",
      "19\n",
      "20\n",
      "21\n",
      "22\n",
      "23\n",
      "24\n",
      "25\n",
      "26\n",
      "27\n",
      "28\n",
      "29\n",
      "30\n",
      "31\n",
      "32\n",
      "(33, 189)\n"
     ]
    }
   ],
   "source": [
    "X = np.zeros((n,d))\n",
    "for i in range(n):\n",
    "    print(i)\n",
    "    cation = Chem.MolFromSmiles(data['SMILE_CAT'][i])\n",
    "    anion  = Chem.MolFromSmiles(data['SMILE_ANI'][i])\n",
    "    X[i][:D]    = calc.CalcDescriptors(cation)\n",
    "    X[i][D:2*D] = calc.CalcDescriptors(anion)\n",
    "\n",
    "X[:,-1] = data['melting point(K)']\n",
    "print(X.shape)\n",
    "\n",
    "np.savetxt(\"Meltingpoint.txt\",X)"
   ]
  },
  {
   "cell_type": "code",
   "execution_count": null,
   "metadata": {
    "collapsed": true
   },
   "outputs": [],
   "source": []
  }
 ],
 "metadata": {
  "anaconda-cloud": {},
  "kernelspec": {
   "display_name": "Python [conda root]",
   "language": "python",
   "name": "conda-root-py"
  },
  "language_info": {
   "codemirror_mode": {
    "name": "ipython",
    "version": 3
   },
   "file_extension": ".py",
   "mimetype": "text/x-python",
   "name": "python",
   "nbconvert_exporter": "python",
   "pygments_lexer": "ipython3",
   "version": "3.5.2"
  }
 },
 "nbformat": 4,
 "nbformat_minor": 1
}
